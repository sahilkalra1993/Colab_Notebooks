{
  "nbformat": 4,
  "nbformat_minor": 0,
  "metadata": {
    "colab": {
      "name": "DeepLearningAssignment_1_NLP.ipynb",
      "provenance": [],
      "collapsed_sections": []
    },
    "kernelspec": {
      "name": "python3",
      "display_name": "Python 3"
    },
    "language_info": {
      "name": "python"
    },
    "accelerator": "GPU"
  },
  "cells": [
    {
      "cell_type": "code",
      "metadata": {
        "id": "tVAqzqts0LZt",
        "colab": {
          "base_uri": "https://localhost:8080/"
        },
        "outputId": "fce4e6bf-b01f-47b8-dc71-9a755f45e9f6"
      },
      "source": [
        "!mkdir ~/.kaggle\n",
        "!touch ~/.kaggle/kaggle.json"
      ],
      "execution_count": null,
      "outputs": [
        {
          "output_type": "stream",
          "text": [
            "mkdir: cannot create directory ‘/root/.kaggle’: File exists\n"
          ],
          "name": "stdout"
        }
      ]
    },
    {
      "cell_type": "code",
      "metadata": {
        "id": "gXBpg9cB0Tf0"
      },
      "source": [
        "api_token = {\"username\":\"use_your_username\",\"key\":\"use_your_api_key\"}"
      ],
      "execution_count": null,
      "outputs": []
    },
    {
      "cell_type": "code",
      "metadata": {
        "id": "mFW-bM5g0Usp"
      },
      "source": [
        "import json\n",
        "\n",
        "with open('/root/.kaggle/kaggle.json', 'w') as file:\n",
        "    json.dump(api_token, file)\n",
        "\n",
        "!chmod 600 ~/.kaggle/kaggle.json"
      ],
      "execution_count": null,
      "outputs": []
    },
    {
      "cell_type": "code",
      "metadata": {
        "colab": {
          "base_uri": "https://localhost:8080/"
        },
        "id": "HZPKQJu30WWL",
        "outputId": "b3537d60-eeb4-4d3e-a022-6e85bb596d1f"
      },
      "source": [
        "!kaggle datasets download -d lakshmi25npathi/imdb-dataset-of-50k-movie-reviews"
      ],
      "execution_count": null,
      "outputs": [
        {
          "output_type": "stream",
          "text": [
            "imdb-dataset-of-50k-movie-reviews.zip: Skipping, found more recently modified local copy (use --force to force download)\n"
          ],
          "name": "stdout"
        }
      ]
    },
    {
      "cell_type": "code",
      "metadata": {
        "colab": {
          "base_uri": "https://localhost:8080/"
        },
        "id": "XE1fS2CL0XY2",
        "outputId": "3bc3bdb5-909d-4051-ab5e-209d936d673f"
      },
      "source": [
        "!unzip imdb-dataset-of-50k-movie-reviews.zip"
      ],
      "execution_count": null,
      "outputs": [
        {
          "output_type": "stream",
          "text": [
            "Archive:  imdb-dataset-of-50k-movie-reviews.zip\n",
            "replace IMDB Dataset.csv? [y]es, [n]o, [A]ll, [N]one, [r]ename: y\n",
            "  inflating: IMDB Dataset.csv        \n"
          ],
          "name": "stdout"
        }
      ]
    },
    {
      "cell_type": "code",
      "metadata": {
        "colab": {
          "base_uri": "https://localhost:8080/"
        },
        "id": "VOV2JM4b0ZxJ",
        "outputId": "48e10ff5-67d1-4c19-e956-349e25d43480"
      },
      "source": [
        "!ls"
      ],
      "execution_count": null,
      "outputs": [
        {
          "output_type": "stream",
          "text": [
            "'IMDB Dataset.csv'   imdb-dataset-of-50k-movie-reviews.zip   sample_data\n"
          ],
          "name": "stdout"
        }
      ]
    },
    {
      "cell_type": "markdown",
      "metadata": {
        "id": "6QRaXG5v0dqx"
      },
      "source": [
        "## Question 1: Import Libraries/Dataset "
      ]
    },
    {
      "cell_type": "code",
      "metadata": {
        "id": "d_4tB7Qw0a7x"
      },
      "source": [
        "%tensorflow_version 2.x"
      ],
      "execution_count": null,
      "outputs": []
    },
    {
      "cell_type": "code",
      "metadata": {
        "colab": {
          "base_uri": "https://localhost:8080/"
        },
        "id": "SyOhqk1Z0f-z",
        "outputId": "992f4eff-5337-4568-9af5-65f54c838ab1"
      },
      "source": [
        "import pandas as pd\n",
        "import tensorflow as tf\n",
        "import tensorflow_hub as hub\n",
        "import seaborn as sns\n",
        "from tensorflow.keras.preprocessing.sequence import pad_sequences\n",
        "from sklearn.model_selection import train_test_split\n",
        "import matplotlib.pyplot as plt\n",
        "\n",
        "\n",
        "import re\n",
        "import nltk\n",
        "from nltk.corpus import stopwords\n",
        "from nltk.stem.porter import PorterStemmer\n",
        "from bs4 import BeautifulSoup\n",
        "from nltk.stem import WordNetLemmatizer\n",
        "from nltk.tokenize import word_tokenize,sent_tokenize\n",
        "from nltk.tokenize.toktok import ToktokTokenizer\n",
        "from nltk.stem import LancasterStemmer,WordNetLemmatizer\n",
        "\n",
        "nltk.download('stopwords')\n",
        "nltk.download('wordnet')"
      ],
      "execution_count": null,
      "outputs": [
        {
          "output_type": "stream",
          "text": [
            "[nltk_data] Downloading package stopwords to /root/nltk_data...\n",
            "[nltk_data]   Package stopwords is already up-to-date!\n",
            "[nltk_data] Downloading package wordnet to /root/nltk_data...\n",
            "[nltk_data]   Package wordnet is already up-to-date!\n"
          ],
          "name": "stdout"
        },
        {
          "output_type": "execute_result",
          "data": {
            "text/plain": [
              "True"
            ]
          },
          "metadata": {
            "tags": []
          },
          "execution_count": 8
        }
      ]
    },
    {
      "cell_type": "markdown",
      "metadata": {
        "id": "VNDFcAjfT5No"
      },
      "source": [
        "#### GPU is Available"
      ]
    },
    {
      "cell_type": "code",
      "metadata": {
        "colab": {
          "base_uri": "https://localhost:8080/",
          "height": 35
        },
        "id": "I-3UQqRE0jWc",
        "outputId": "6f362094-abeb-4093-88ce-95a75e19eb40"
      },
      "source": [
        "tf.test.gpu_device_name()"
      ],
      "execution_count": null,
      "outputs": [
        {
          "output_type": "execute_result",
          "data": {
            "application/vnd.google.colaboratory.intrinsic+json": {
              "type": "string"
            },
            "text/plain": [
              "'/device:GPU:0'"
            ]
          },
          "metadata": {
            "tags": []
          },
          "execution_count": 9
        }
      ]
    },
    {
      "cell_type": "code",
      "metadata": {
        "colab": {
          "base_uri": "https://localhost:8080/",
          "height": 196
        },
        "id": "_ch9XbPV0k2r",
        "outputId": "3ed85eb6-92b9-4939-b07d-06ba6b7b19a1"
      },
      "source": [
        "df = pd.read_csv(\"IMDB Dataset.csv\")\n",
        "df.head()"
      ],
      "execution_count": null,
      "outputs": [
        {
          "output_type": "execute_result",
          "data": {
            "text/html": [
              "<div>\n",
              "<style scoped>\n",
              "    .dataframe tbody tr th:only-of-type {\n",
              "        vertical-align: middle;\n",
              "    }\n",
              "\n",
              "    .dataframe tbody tr th {\n",
              "        vertical-align: top;\n",
              "    }\n",
              "\n",
              "    .dataframe thead th {\n",
              "        text-align: right;\n",
              "    }\n",
              "</style>\n",
              "<table border=\"1\" class=\"dataframe\">\n",
              "  <thead>\n",
              "    <tr style=\"text-align: right;\">\n",
              "      <th></th>\n",
              "      <th>review</th>\n",
              "      <th>sentiment</th>\n",
              "    </tr>\n",
              "  </thead>\n",
              "  <tbody>\n",
              "    <tr>\n",
              "      <th>0</th>\n",
              "      <td>One of the other reviewers has mentioned that ...</td>\n",
              "      <td>positive</td>\n",
              "    </tr>\n",
              "    <tr>\n",
              "      <th>1</th>\n",
              "      <td>A wonderful little production. &lt;br /&gt;&lt;br /&gt;The...</td>\n",
              "      <td>positive</td>\n",
              "    </tr>\n",
              "    <tr>\n",
              "      <th>2</th>\n",
              "      <td>I thought this was a wonderful way to spend ti...</td>\n",
              "      <td>positive</td>\n",
              "    </tr>\n",
              "    <tr>\n",
              "      <th>3</th>\n",
              "      <td>Basically there's a family where a little boy ...</td>\n",
              "      <td>negative</td>\n",
              "    </tr>\n",
              "    <tr>\n",
              "      <th>4</th>\n",
              "      <td>Petter Mattei's \"Love in the Time of Money\" is...</td>\n",
              "      <td>positive</td>\n",
              "    </tr>\n",
              "  </tbody>\n",
              "</table>\n",
              "</div>"
            ],
            "text/plain": [
              "                                              review sentiment\n",
              "0  One of the other reviewers has mentioned that ...  positive\n",
              "1  A wonderful little production. <br /><br />The...  positive\n",
              "2  I thought this was a wonderful way to spend ti...  positive\n",
              "3  Basically there's a family where a little boy ...  negative\n",
              "4  Petter Mattei's \"Love in the Time of Money\" is...  positive"
            ]
          },
          "metadata": {
            "tags": []
          },
          "execution_count": 10
        }
      ]
    },
    {
      "cell_type": "code",
      "metadata": {
        "colab": {
          "base_uri": "https://localhost:8080/"
        },
        "id": "41--dfrN0npR",
        "outputId": "66de4b00-7261-4263-e9d7-6311a12c86d0"
      },
      "source": [
        "df.sentiment.value_counts()"
      ],
      "execution_count": null,
      "outputs": [
        {
          "output_type": "execute_result",
          "data": {
            "text/plain": [
              "positive    25000\n",
              "negative    25000\n",
              "Name: sentiment, dtype: int64"
            ]
          },
          "metadata": {
            "tags": []
          },
          "execution_count": 11
        }
      ]
    },
    {
      "cell_type": "code",
      "metadata": {
        "id": "v-rVjpEl0qM5"
      },
      "source": [
        ""
      ],
      "execution_count": null,
      "outputs": []
    },
    {
      "cell_type": "markdown",
      "metadata": {
        "id": "P-PlRg4O0rzE"
      },
      "source": [
        "## Question 2 : Data Visualization"
      ]
    },
    {
      "cell_type": "markdown",
      "metadata": {
        "id": "KbQ-FH8t0toS"
      },
      "source": [
        "#### 1. Print at least two movie reviews from each class of the dataset, for a sanity check that labels match the text."
      ]
    },
    {
      "cell_type": "code",
      "metadata": {
        "colab": {
          "base_uri": "https://localhost:8080/"
        },
        "id": "zOR_iE2K0sHz",
        "outputId": "47105cb6-0ab6-400c-8b09-504d9a1af05b"
      },
      "source": [
        "print(df[df.sentiment=='positive']['review'].values[:2])"
      ],
      "execution_count": null,
      "outputs": [
        {
          "output_type": "stream",
          "text": [
            "[\"One of the other reviewers has mentioned that after watching just 1 Oz episode you'll be hooked. They are right, as this is exactly what happened with me.<br /><br />The first thing that struck me about Oz was its brutality and unflinching scenes of violence, which set in right from the word GO. Trust me, this is not a show for the faint hearted or timid. This show pulls no punches with regards to drugs, sex or violence. Its is hardcore, in the classic use of the word.<br /><br />It is called OZ as that is the nickname given to the Oswald Maximum Security State Penitentary. It focuses mainly on Emerald City, an experimental section of the prison where all the cells have glass fronts and face inwards, so privacy is not high on the agenda. Em City is home to many..Aryans, Muslims, gangstas, Latinos, Christians, Italians, Irish and more....so scuffles, death stares, dodgy dealings and shady agreements are never far away.<br /><br />I would say the main appeal of the show is due to the fact that it goes where other shows wouldn't dare. Forget pretty pictures painted for mainstream audiences, forget charm, forget romance...OZ doesn't mess around. The first episode I ever saw struck me as so nasty it was surreal, I couldn't say I was ready for it, but as I watched more, I developed a taste for Oz, and got accustomed to the high levels of graphic violence. Not just violence, but injustice (crooked guards who'll be sold out for a nickel, inmates who'll kill on order and get away with it, well mannered, middle class inmates being turned into prison bitches due to their lack of street skills or prison experience) Watching Oz, you may become comfortable with what is uncomfortable viewing....thats if you can get in touch with your darker side.\"\n",
            " 'A wonderful little production. <br /><br />The filming technique is very unassuming- very old-time-BBC fashion and gives a comforting, and sometimes discomforting, sense of realism to the entire piece. <br /><br />The actors are extremely well chosen- Michael Sheen not only \"has got all the polari\" but he has all the voices down pat too! You can truly see the seamless editing guided by the references to Williams\\' diary entries, not only is it well worth the watching but it is a terrificly written and performed piece. A masterful production about one of the great master\\'s of comedy and his life. <br /><br />The realism really comes home with the little things: the fantasy of the guard which, rather than use the traditional \\'dream\\' techniques remains solid then disappears. It plays on our knowledge and our senses, particularly with the scenes concerning Orton and Halliwell and the sets (particularly of their flat with Halliwell\\'s murals decorating every surface) are terribly well done.']\n"
          ],
          "name": "stdout"
        }
      ]
    },
    {
      "cell_type": "code",
      "metadata": {
        "colab": {
          "base_uri": "https://localhost:8080/"
        },
        "id": "Dk9PcrGf0v_p",
        "outputId": "6789f975-81c4-4d4b-fd5d-41c6c077fe78"
      },
      "source": [
        "print(df[df.sentiment=='negative']['review'].values[:2])"
      ],
      "execution_count": null,
      "outputs": [
        {
          "output_type": "stream",
          "text": [
            "[\"Basically there's a family where a little boy (Jake) thinks there's a zombie in his closet & his parents are fighting all the time.<br /><br />This movie is slower than a soap opera... and suddenly, Jake decides to become Rambo and kill the zombie.<br /><br />OK, first of all when you're going to make a film you must Decide if its a thriller or a drama! As a drama the movie is watchable. Parents are divorcing & arguing like in real life. And then we have Jake with his closet which totally ruins all the film! I expected to see a BOOGEYMAN similar movie, and instead i watched a drama with some meaningless thriller spots.<br /><br />3 out of 10 just for the well playing parents & descent dialogs. As for the shots with Jake: just ignore them.\"\n",
            " \"This show was an amazing, fresh & innovative idea in the 70's when it first aired. The first 7 or 8 years were brilliant, but things dropped off after that. By 1990, the show was not really funny anymore, and it's continued its decline further to the complete waste of time it is today.<br /><br />It's truly disgraceful how far this show has fallen. The writing is painfully bad, the performances are almost as bad - if not for the mildly entertaining respite of the guest-hosts, this show probably wouldn't still be on the air. I find it so hard to believe that the same creator that hand-selected the original cast also chose the band of hacks that followed. How can one recognize such brilliance and then see fit to replace it with such mediocrity? I felt I must give 2 stars out of respect for the original cast that made this show such a huge success. As it is now, the show is just awful. I can't believe it's still on the air.\"]\n"
          ],
          "name": "stdout"
        }
      ]
    },
    {
      "cell_type": "markdown",
      "metadata": {
        "id": "h2skLVJR00rf"
      },
      "source": [
        "#### 2. Plot a bar graph of class distribution in a dataset. Each bar depicts the number of tweets belonging to a particular sentiment."
      ]
    },
    {
      "cell_type": "code",
      "metadata": {
        "colab": {
          "base_uri": "https://localhost:8080/",
          "height": 316
        },
        "id": "Ojs3P4Ao0xA-",
        "outputId": "14cddff7-1b09-4345-f1f1-ee4855e607f2"
      },
      "source": [
        "df.sentiment.value_counts().plot(kind='bar')"
      ],
      "execution_count": null,
      "outputs": [
        {
          "output_type": "execute_result",
          "data": {
            "text/plain": [
              "<matplotlib.axes._subplots.AxesSubplot at 0x7f94b0334cd0>"
            ]
          },
          "metadata": {
            "tags": []
          },
          "execution_count": 14
        },
        {
          "output_type": "display_data",
          "data": {
            "image/png": "[encoded data removed]",
            "text/plain": [
              "<Figure size 432x288 with 1 Axes>"
            ]
          },
          "metadata": {
            "tags": [],
            "needs_background": "light"
          }
        }
      ]
    },
    {
      "cell_type": "markdown",
      "metadata": {
        "id": "ATRbSYvCUMKM"
      },
      "source": [
        "Splitting in train and test data and checking shape"
      ]
    },
    {
      "cell_type": "code",
      "metadata": {
        "colab": {
          "base_uri": "https://localhost:8080/"
        },
        "id": "EQijy2fB02mt",
        "outputId": "79cf2971-0bec-4f1d-a512-65ff4ff14e5c"
      },
      "source": [
        "X, y = df.review, df.sentiment\n",
        "X.shape, y.shape"
      ],
      "execution_count": null,
      "outputs": [
        {
          "output_type": "execute_result",
          "data": {
            "text/plain": [
              "((50000,), (50000,))"
            ]
          },
          "metadata": {
            "tags": []
          },
          "execution_count": 15
        }
      ]
    },
    {
      "cell_type": "code",
      "metadata": {
        "id": "ThV2Gbzb03py"
      },
      "source": [
        "X_train, X_test, y_train, y_test = train_test_split(X,y,)\n"
      ],
      "execution_count": null,
      "outputs": []
    },
    {
      "cell_type": "code",
      "metadata": {
        "colab": {
          "base_uri": "https://localhost:8080/"
        },
        "id": "w18TKOpZ04lk",
        "outputId": "f1dc1a0b-66f4-4710-c7af-24ac6f44be8b"
      },
      "source": [
        "X_train.shape, X_test.shape"
      ],
      "execution_count": null,
      "outputs": [
        {
          "output_type": "execute_result",
          "data": {
            "text/plain": [
              "((37500,), (12500,))"
            ]
          },
          "metadata": {
            "tags": []
          },
          "execution_count": 17
        }
      ]
    },
    {
      "cell_type": "code",
      "metadata": {
        "colab": {
          "base_uri": "https://localhost:8080/"
        },
        "id": "pi1ErmNt05vr",
        "outputId": "90a31246-7565-4569-8980-d4e705ccd61f"
      },
      "source": [
        "print(y_train.value_counts()) \n",
        "print(y_test.value_counts())"
      ],
      "execution_count": null,
      "outputs": [
        {
          "output_type": "stream",
          "text": [
            "negative    18776\n",
            "positive    18724\n",
            "Name: sentiment, dtype: int64\n",
            "positive    6276\n",
            "negative    6224\n",
            "Name: sentiment, dtype: int64\n"
          ],
          "name": "stdout"
        }
      ]
    },
    {
      "cell_type": "code",
      "metadata": {
        "id": "7lchduTN06j8"
      },
      "source": [
        ""
      ],
      "execution_count": null,
      "outputs": []
    },
    {
      "cell_type": "markdown",
      "metadata": {
        "id": "3MYUFQ1B08YQ"
      },
      "source": [
        "## Question 3 : Data Pre-processing"
      ]
    },
    {
      "cell_type": "markdown",
      "metadata": {
        "id": "Z6JKloxg0-wK"
      },
      "source": [
        "#### 1. Text Pre-Processing"
      ]
    },
    {
      "cell_type": "code",
      "metadata": {
        "id": "O3Q6k7q908sn"
      },
      "source": [
        "#HTML Parsing to Text\n",
        "def process_html(text):\n",
        "    soup = BeautifulSoup(text, \"html.parser\")\n",
        "    return soup.get_text()\n",
        "  \n",
        "#Removing the square brackets\n",
        "def remove_brackets(text):\n",
        "    return re.sub('\\[[^]]*\\]', '', text)\n",
        "\n",
        "#Removing special characters\n",
        "def remove_special_characters(text):\n",
        "    pattern=r'[^a-zA-z0-9\\s]'\n",
        "    text=re.sub(pattern,' ',text)\n",
        "    text = text.strip()\n",
        "    return text\n",
        "\n",
        "# Text Lemmatization\n",
        "lemmatizer = WordNetLemmatizer()\n",
        "def simple_lemma(text):\n",
        "    text= ' '.join([lemmatizer.lemmatize(word) for word in text.split()])\n",
        "    return text\n",
        "\n",
        "#removing the stopwords\n",
        "tokenizer=ToktokTokenizer()\n",
        "stopword_list=nltk.corpus.stopwords.words('english')\n",
        "def remove_stopwords(text):\n",
        "    tokens = tokenizer.tokenize(text)\n",
        "    tokens = [token.strip() for token in tokens]\n",
        "    filtered_tokens = [token for token in tokens if token.lower() not in stopword_list]\n",
        "    filtered_text = ' '.join(filtered_tokens)    \n",
        "    return filtered_text    \n",
        "\n",
        "def pre_process_text(text):\n",
        "    text = process_html(text)\n",
        "    text = remove_brackets(text)\n",
        "    text = remove_stopwords(text)\n",
        "    text = remove_special_characters(text)\n",
        "    text = simple_lemma(text)\n",
        "    \n",
        "    return text"
      ],
      "execution_count": null,
      "outputs": []
    },
    {
      "cell_type": "code",
      "metadata": {
        "colab": {
          "base_uri": "https://localhost:8080/"
        },
        "id": "PHPGZtYe1AD_",
        "outputId": "b1d24d10-5c1e-4708-9cd7-8efd2e6bc416"
      },
      "source": [
        "%%time\n",
        "X_train = X_train.apply(pre_process_text)\n",
        "X_test = X_test.apply(pre_process_text)"
      ],
      "execution_count": null,
      "outputs": [
        {
          "output_type": "stream",
          "text": [
            "CPU times: user 1min 29s, sys: 470 ms, total: 1min 30s\n",
            "Wall time: 1min 30s\n"
          ],
          "name": "stdout"
        }
      ]
    },
    {
      "cell_type": "code",
      "metadata": {
        "id": "3xo8OkTI2OBT"
      },
      "source": [
        "# X_train = tf.convert_to_tensor(X_train)\n",
        "# X_test = tf.convert_to_tensor(X_test)"
      ],
      "execution_count": null,
      "outputs": []
    },
    {
      "cell_type": "code",
      "metadata": {
        "id": "KApzMPdq1B6Y"
      },
      "source": [
        "y_train = y_train.map({'positive': 1, 'negative':0})\n",
        "y_test = y_test.map({'positive': 1, 'negative':0})\n",
        "\n",
        "# y_train = tf.convert_to_tensor(y_train)\n",
        "# y_test = tf.convert_to_tensor(y_test)\n"
      ],
      "execution_count": null,
      "outputs": []
    },
    {
      "cell_type": "markdown",
      "metadata": {
        "id": "0CcOei8G1H9v"
      },
      "source": [
        "#### 2. Using Pre-trained layer and bring test and train data in required format"
      ]
    },
    {
      "cell_type": "code",
      "metadata": {
        "id": "F1HanMDp1EMu"
      },
      "source": [
        "\n",
        "model = \"https://tfhub.dev/google/nnlm-en-dim50/2\"\n",
        "hub_layer = hub.KerasLayer(model, input_shape=[], dtype=tf.string, trainable=True)\n",
        "# X_train = hub_layer(X_train)\n",
        "# X_test = hub_layer(X_test)"
      ],
      "execution_count": null,
      "outputs": []
    },
    {
      "cell_type": "code",
      "metadata": {
        "id": "dI9QBVVi1K4x"
      },
      "source": [
        ""
      ],
      "execution_count": null,
      "outputs": []
    },
    {
      "cell_type": "markdown",
      "metadata": {
        "id": "gLEBRyKa1Mwf"
      },
      "source": [
        "## Question 4: Model Building "
      ]
    },
    {
      "cell_type": "markdown",
      "metadata": {
        "id": "S0ltxTcK1OlW"
      },
      "source": [
        "Sequential Model layers\n",
        "\n",
        "Use AT LEAST 3 hidden layers with appropriate input for each\n",
        "\n",
        "Add L2 regularization to all the layers.\n",
        "\n",
        "\n",
        "Add one layer of dropout at the appropriate position and give reasons.\n",
        "\n",
        "\n",
        "Choose the appropriate activation function for all the layers.\n",
        "\n",
        "\n",
        "Print the model summary.\n"
      ]
    },
    {
      "cell_type": "code",
      "metadata": {
        "colab": {
          "base_uri": "https://localhost:8080/"
        },
        "id": "ysBysbcE1M8f",
        "outputId": "cacfdf67-982a-40f4-c074-993f7ea08665"
      },
      "source": [
        "model = tf.keras.Sequential()\n",
        "model.add(tf.keras.layers.Input(shape=(), name=\"Input\", dtype=tf.string))\n",
        "model.add(hub_layer)\n",
        "model.add(tf.keras.layers.Dense(32, activation='relu', kernel_regularizer=tf.keras.regularizers.l2(l=0.1)))\n",
        "model.add(tf.keras.layers.Dropout(0.5))\n",
        "model.add(tf.keras.layers.Dense(16, activation='relu', kernel_regularizer=tf.keras.regularizers.l2(l=0.1)))\n",
        "model.add(tf.keras.layers.Dense(1, activation='sigmoid'))\n",
        "\n",
        "# model.add(hub_layer)\n",
        "# model.add(tf.keras.layers.Dense(16, activation='relu'))\n",
        "# model.add(tf.keras.layers.Dense(1))\n",
        "\n",
        "model.summary()"
      ],
      "execution_count": null,
      "outputs": [
        {
          "output_type": "stream",
          "text": [
            "Model: \"sequential\"\n",
            "_________________________________________________________________\n",
            "Layer (type)                 Output Shape              Param #   \n",
            "=================================================================\n",
            "keras_layer (KerasLayer)     (None, 50)                48190600  \n",
            "_________________________________________________________________\n",
            "dense (Dense)                (None, 32)                1632      \n",
            "_________________________________________________________________\n",
            "dropout (Dropout)            (None, 32)                0         \n",
            "_________________________________________________________________\n",
            "dense_1 (Dense)              (None, 16)                528       \n",
            "_________________________________________________________________\n",
            "dense_2 (Dense)              (None, 1)                 17        \n",
            "=================================================================\n",
            "Total params: 48,192,777\n",
            "Trainable params: 48,192,777\n",
            "Non-trainable params: 0\n",
            "_________________________________________________________________\n"
          ],
          "name": "stdout"
        }
      ]
    },
    {
      "cell_type": "markdown",
      "metadata": {
        "id": "Niu_Cvygt6hu"
      },
      "source": [
        "Reason for choosing Hidden units:\n",
        "\n",
        "There are many rule-of-thumb methods for determining the correct number of neurons to use in the hidden layers, such as the following:\n",
        "\n",
        "1. The number of hidden neurons should be between the size of the input layer and the size of the output layer.<br>\n",
        "2. <b>The number of hidden neurons should be 2/3 the size of the input layer, plus the size of the output layer.</b><br>\n",
        "3. The number of hidden neurons should be less than twice the size of the input layer.\n",
        "\n",
        "Using these 3 formulas.<br> \n",
        "Getting values ~ 32 and 16 for the 2 hidden layers."
      ]
    },
    {
      "cell_type": "markdown",
      "metadata": {
        "id": "DalOGXwWvAYF"
      },
      "source": [
        "Reason for putting dropout just after the pre-trained vector.\n",
        "\n",
        "<b>Usually, dropout is placed on the fully connected layers only because they are the one with the greater number of parameters and thus they're likely to excessively co-adapting themselves causing overfitting</b>"
      ]
    },
    {
      "cell_type": "markdown",
      "metadata": {
        "id": "QdT7POnGvPil"
      },
      "source": [
        "Choice of Activation functions:\n",
        "\n",
        "<b> We have used relu, in all the hidden layers because rectified linear activation function overcomes the vanishing gradient problem, allowing models to learn faster and perform better.\n",
        "\n",
        "In the output layer, we want binary output (0 or 1) so we have used sigmoid."
      ]
    },
    {
      "cell_type": "code",
      "metadata": {
        "id": "VMlpURyC1Qq2"
      },
      "source": [
        ""
      ],
      "execution_count": null,
      "outputs": []
    },
    {
      "cell_type": "markdown",
      "metadata": {
        "id": "_7XYUzaW1Sz5"
      },
      "source": [
        "## 5. Model Compilation"
      ]
    },
    {
      "cell_type": "markdown",
      "metadata": {
        "id": "g59S2fHE1UrX"
      },
      "source": [
        "Compile the model with the appropriate loss function\n",
        "\n",
        "Use an appropriate optimizer. Give reasons for the choice of learning rate and its value.\n",
        "\n",
        "Use accuracy as a metric.\n"
      ]
    },
    {
      "cell_type": "code",
      "metadata": {
        "id": "y8dt62Fg1TCg"
      },
      "source": [
        "model.compile(optimizer='adam',\n",
        "              loss=tf.losses.BinaryCrossentropy(from_logits=True),\n",
        "              metrics=['accuracy'])  \n",
        "              # metrics=[tf.metrics.BinaryAccuracy(threshold=0.0, name='accuracy')])  "
      ],
      "execution_count": null,
      "outputs": []
    },
    {
      "cell_type": "markdown",
      "metadata": {
        "id": "MculPKKZxwT0"
      },
      "source": [
        "We are choosing Adam Optimizer.\n",
        "\n",
        "Adam is a replacement optimization algorithm for stochastic gradient descent for training deep learning models. Adam combines the best properties of the AdaGrad and RMSProp algorithms to provide an optimization algorithm that can handle sparse gradients on noisy problems. <b> This algorithm is used to accelerate the gradient descent algorithm by taking into consideration the 'exponentially weighted average' of the gradients. Using averages makes the algorithm converge towards the minima in a faster pace </b>\n",
        "\n",
        "<br>\n",
        "\n",
        "<b>Adam is and adaptive optimizer, and it learns the learning rates itself, on a per-parameter basis. So we are not specifying learning rate"
      ]
    },
    {
      "cell_type": "markdown",
      "metadata": {
        "id": "xk1YM2k11YIR"
      },
      "source": [
        "## 6. Model Training"
      ]
    },
    {
      "cell_type": "markdown",
      "metadata": {
        "id": "Qf9sYnZO1aDo"
      },
      "source": [
        "Train the model for an appropriate number of epochs. Print the train and validation\n",
        "accuracy and loss for each epoch. Use the appropriate batch size.\n",
        "\n",
        "\n",
        "Plot the loss and accuracy history graphs for both train and validation set. Print the total\n",
        "time taken for training.\n"
      ]
    },
    {
      "cell_type": "code",
      "metadata": {
        "colab": {
          "base_uri": "https://localhost:8080/"
        },
        "id": "wTeHNExa1WBz",
        "outputId": "df733a44-eba5-4b8c-f0df-1b5aae3dbaa1"
      },
      "source": [
        "# Creating validation set\n",
        "\n",
        "X_validation_ = X_train[:5000]\n",
        "X_train_ = X_train[5000:]\n",
        "\n",
        "y_validation_ = y_train[:5000]\n",
        "y_train_ = y_train[5000:]\n",
        "\n",
        "\n",
        "X_train_.shape, X_validation_.shape, y_train_.shape, y_validation_.shape"
      ],
      "execution_count": null,
      "outputs": [
        {
          "output_type": "execute_result",
          "data": {
            "text/plain": [
              "((32500,), (5000,), (32500,), (5000,))"
            ]
          },
          "metadata": {
            "tags": []
          },
          "execution_count": 26
        }
      ]
    },
    {
      "cell_type": "code",
      "metadata": {
        "colab": {
          "base_uri": "https://localhost:8080/"
        },
        "id": "6u_tXMCn2aSh",
        "outputId": "7aa27c78-6c08-4a42-b87b-8a53d9e6028b"
      },
      "source": [
        "X_train_[:1]"
      ],
      "execution_count": null,
      "outputs": [
        {
          "output_type": "execute_result",
          "data": {
            "text/plain": [
              "46808    made mistake buying since collect comic book i...\n",
              "Name: review, dtype: object"
            ]
          },
          "metadata": {
            "tags": []
          },
          "execution_count": 27
        }
      ]
    },
    {
      "cell_type": "code",
      "metadata": {
        "colab": {
          "base_uri": "https://localhost:8080/"
        },
        "id": "jqXjFeNe1bSh",
        "outputId": "0037ea7b-eeee-4714-a898-9d3feb1b7b79"
      },
      "source": [
        "history = model.fit(X_train_,\n",
        "                    y_train_,\n",
        "                    epochs=25,\n",
        "                    batch_size=256,\n",
        "                    validation_data=(X_validation_, y_validation_),\n",
        "                    verbose=1)"
      ],
      "execution_count": null,
      "outputs": [
        {
          "output_type": "stream",
          "text": [
            "Epoch 1/25\n",
            "127/127 [==============================] - 9s 60ms/step - loss: 5.2852 - accuracy: 0.5740 - val_loss: 2.1381 - val_accuracy: 0.8220\n",
            "Epoch 2/25\n",
            "127/127 [==============================] - 7s 55ms/step - loss: 1.7044 - accuracy: 0.8059 - val_loss: 0.8392 - val_accuracy: 0.8800\n",
            "Epoch 3/25\n",
            "127/127 [==============================] - 7s 56ms/step - loss: 0.7244 - accuracy: 0.8817 - val_loss: 0.5081 - val_accuracy: 0.8938\n",
            "Epoch 4/25\n",
            "127/127 [==============================] - 7s 56ms/step - loss: 0.4541 - accuracy: 0.9141 - val_loss: 0.4173 - val_accuracy: 0.8996\n",
            "Epoch 5/25\n",
            "127/127 [==============================] - 7s 56ms/step - loss: 0.3597 - accuracy: 0.9344 - val_loss: 0.3852 - val_accuracy: 0.8990\n",
            "Epoch 6/25\n",
            "127/127 [==============================] - 7s 56ms/step - loss: 0.3127 - accuracy: 0.9463 - val_loss: 0.3652 - val_accuracy: 0.9028\n",
            "Epoch 7/25\n",
            "127/127 [==============================] - 7s 57ms/step - loss: 0.2849 - accuracy: 0.9544 - val_loss: 0.3545 - val_accuracy: 0.9024\n",
            "Epoch 8/25\n",
            "127/127 [==============================] - 7s 55ms/step - loss: 0.2598 - accuracy: 0.9611 - val_loss: 0.3478 - val_accuracy: 0.9030\n",
            "Epoch 9/25\n",
            "127/127 [==============================] - 7s 55ms/step - loss: 0.2398 - accuracy: 0.9681 - val_loss: 0.3450 - val_accuracy: 0.9026\n",
            "Epoch 10/25\n",
            "127/127 [==============================] - 7s 55ms/step - loss: 0.2209 - accuracy: 0.9734 - val_loss: 0.3420 - val_accuracy: 0.9010\n",
            "Epoch 11/25\n",
            "127/127 [==============================] - 7s 56ms/step - loss: 0.2082 - accuracy: 0.9759 - val_loss: 0.3424 - val_accuracy: 0.9014\n",
            "Epoch 12/25\n",
            "127/127 [==============================] - 7s 55ms/step - loss: 0.1959 - accuracy: 0.9790 - val_loss: 0.3354 - val_accuracy: 0.9020\n",
            "Epoch 13/25\n",
            "127/127 [==============================] - 7s 55ms/step - loss: 0.1835 - accuracy: 0.9824 - val_loss: 0.3354 - val_accuracy: 0.9010\n",
            "Epoch 14/25\n",
            "127/127 [==============================] - 7s 56ms/step - loss: 0.1751 - accuracy: 0.9836 - val_loss: 0.3343 - val_accuracy: 0.9002\n",
            "Epoch 15/25\n",
            "127/127 [==============================] - 7s 56ms/step - loss: 0.1637 - accuracy: 0.9872 - val_loss: 0.3367 - val_accuracy: 0.8994\n",
            "Epoch 16/25\n",
            "127/127 [==============================] - 7s 56ms/step - loss: 0.1565 - accuracy: 0.9887 - val_loss: 0.3331 - val_accuracy: 0.8980\n",
            "Epoch 17/25\n",
            "127/127 [==============================] - 7s 56ms/step - loss: 0.1503 - accuracy: 0.9892 - val_loss: 0.3333 - val_accuracy: 0.8996\n",
            "Epoch 18/25\n",
            "127/127 [==============================] - 7s 56ms/step - loss: 0.1436 - accuracy: 0.9906 - val_loss: 0.3306 - val_accuracy: 0.8982\n",
            "Epoch 19/25\n",
            "127/127 [==============================] - 7s 56ms/step - loss: 0.1376 - accuracy: 0.9916 - val_loss: 0.3378 - val_accuracy: 0.8988\n",
            "Epoch 20/25\n",
            "127/127 [==============================] - 7s 55ms/step - loss: 0.1302 - accuracy: 0.9932 - val_loss: 0.3372 - val_accuracy: 0.8990\n",
            "Epoch 21/25\n",
            "127/127 [==============================] - 7s 55ms/step - loss: 0.1262 - accuracy: 0.9933 - val_loss: 0.3425 - val_accuracy: 0.8968\n",
            "Epoch 22/25\n",
            "127/127 [==============================] - 7s 55ms/step - loss: 0.1223 - accuracy: 0.9936 - val_loss: 0.3389 - val_accuracy: 0.8968\n",
            "Epoch 23/25\n",
            "127/127 [==============================] - 7s 55ms/step - loss: 0.1158 - accuracy: 0.9947 - val_loss: 0.3420 - val_accuracy: 0.8948\n",
            "Epoch 24/25\n",
            "127/127 [==============================] - 7s 55ms/step - loss: 0.1117 - accuracy: 0.9952 - val_loss: 0.3431 - val_accuracy: 0.8962\n",
            "Epoch 25/25\n",
            "127/127 [==============================] - 7s 56ms/step - loss: 0.1088 - accuracy: 0.9960 - val_loss: 0.3496 - val_accuracy: 0.8928\n"
          ],
          "name": "stdout"
        }
      ]
    },
    {
      "cell_type": "markdown",
      "metadata": {
        "id": "Y7ysBBOOD6Gq"
      },
      "source": [
        "Used the formula to find the ~ batch size to be used.\n",
        "\n",
        "batch size= available GPU memory bytes / (size of tensors + trainable parameters)\n",
        "\n",
        "Considering GPU memory = 12GB = 12\\*1024\\*1024\\*1024\n",
        "\n",
        "trainable parameters = 48,192,777\n",
        "\n",
        "So, batch size ~ 270, so choosed 256."
      ]
    },
    {
      "cell_type": "code",
      "metadata": {
        "id": "5jgdmSbZ56WF"
      },
      "source": [
        ""
      ],
      "execution_count": null,
      "outputs": []
    },
    {
      "cell_type": "code",
      "metadata": {
        "colab": {
          "base_uri": "https://localhost:8080/"
        },
        "id": "imd_lxUO1cK9",
        "outputId": "445fbb99-26cf-4c74-f1af-32d9b4777bdb"
      },
      "source": [
        "# Plot the loss and accuracy history graphs for both train and validation set. Print the total\n",
        "# time taken for training.\n",
        "\n",
        "history_dict = history.history\n",
        "history_dict.keys()"
      ],
      "execution_count": null,
      "outputs": [
        {
          "output_type": "execute_result",
          "data": {
            "text/plain": [
              "dict_keys(['loss', 'accuracy', 'val_loss', 'val_accuracy'])"
            ]
          },
          "metadata": {
            "tags": []
          },
          "execution_count": 29
        }
      ]
    },
    {
      "cell_type": "code",
      "metadata": {
        "colab": {
          "base_uri": "https://localhost:8080/",
          "height": 295
        },
        "id": "he2i9-L05QpM",
        "outputId": "ebb4c5fe-ad48-4454-9aef-9a809092a55d"
      },
      "source": [
        "acc = history_dict['accuracy']\n",
        "val_acc = history_dict['val_accuracy']\n",
        "loss = history_dict['loss']\n",
        "val_loss = history_dict['val_loss']\n",
        "\n",
        "epochs = range(1, len(acc) + 1)\n",
        "\n",
        "# \"bo\" is for \"blue dot\"\n",
        "plt.plot(epochs, loss, 'bo', label='Training loss')\n",
        "# b is for \"solid blue line\"\n",
        "plt.plot(epochs, val_loss, 'b', label='Validation loss')\n",
        "plt.title('Training and validation loss')\n",
        "plt.xlabel('Epochs')\n",
        "plt.ylabel('Loss')\n",
        "plt.legend()\n",
        "\n",
        "plt.show()"
      ],
      "execution_count": null,
      "outputs": [
        {
          "output_type": "display_data",
          "data": {
            "image/png": "[encoded data removed]",
            "text/plain": [
              "<Figure size 432x288 with 1 Axes>"
            ]
          },
          "metadata": {
            "tags": [],
            "needs_background": "light"
          }
        }
      ]
    },
    {
      "cell_type": "code",
      "metadata": {
        "colab": {
          "base_uri": "https://localhost:8080/",
          "height": 295
        },
        "id": "lWrvVRtG5TpW",
        "outputId": "b214eaae-c2ea-4179-80db-13acbb2e51d5"
      },
      "source": [
        "plt.clf()   # clear figure\n",
        "\n",
        "plt.plot(epochs, acc, 'bo', label='Training acc')\n",
        "plt.plot(epochs, val_acc, 'b', label='Validation acc')\n",
        "plt.title('Training and validation accuracy')\n",
        "plt.xlabel('Epochs')\n",
        "plt.ylabel('Accuracy')\n",
        "plt.legend()\n",
        "\n",
        "plt.show()"
      ],
      "execution_count": null,
      "outputs": [
        {
          "output_type": "display_data",
          "data": {
            "image/png": "[encoded data removed]",
            "text/plain": [
              "<Figure size 432x288 with 1 Axes>"
            ]
          },
          "metadata": {
            "tags": [],
            "needs_background": "light"
          }
        }
      ]
    },
    {
      "cell_type": "markdown",
      "metadata": {
        "id": "VpeXAlTg6PLO"
      },
      "source": [
        "## 7. Model Evaluation"
      ]
    },
    {
      "cell_type": "markdown",
      "metadata": {
        "id": "BV8lDXRq6Vx8"
      },
      "source": [
        "Print the final train and validation loss and accuracy. Print confusion matrix and\n",
        "classification report for the validation dataset. Analyse and report the best and worst\n",
        "performing class."
      ]
    },
    {
      "cell_type": "code",
      "metadata": {
        "colab": {
          "base_uri": "https://localhost:8080/"
        },
        "id": "lt082pL25gtr",
        "outputId": "a2aee387-a63b-4156-afd3-cdbef0a1fa5f"
      },
      "source": [
        "results = model.evaluate(X_test, y_test)\n",
        "\n",
        "print(results)"
      ],
      "execution_count": null,
      "outputs": [
        {
          "output_type": "stream",
          "text": [
            "391/391 [==============================] - 2s 5ms/step - loss: 0.3467 - accuracy: 0.8952\n",
            "[0.3466631770133972, 0.8952000141143799]\n"
          ],
          "name": "stdout"
        }
      ]
    },
    {
      "cell_type": "code",
      "metadata": {
        "id": "i2ilYGaq6Xuo"
      },
      "source": [
        "y_pred = (model.predict(X_test) > 0.5).astype(\"int32\")\n",
        "y_pred_prob = model.predict(X_test)"
      ],
      "execution_count": null,
      "outputs": []
    },
    {
      "cell_type": "code",
      "metadata": {
        "colab": {
          "base_uri": "https://localhost:8080/"
        },
        "id": "ZY4KDhCo8wQQ",
        "outputId": "3763eab1-2419-400c-e4ac-0548f3c65f72"
      },
      "source": [
        "y_pred[:5]"
      ],
      "execution_count": null,
      "outputs": [
        {
          "output_type": "execute_result",
          "data": {
            "text/plain": [
              "array([[1],\n",
              "       [1],\n",
              "       [0],\n",
              "       [0],\n",
              "       [1]], dtype=int32)"
            ]
          },
          "metadata": {
            "tags": []
          },
          "execution_count": 34
        }
      ]
    },
    {
      "cell_type": "code",
      "metadata": {
        "colab": {
          "base_uri": "https://localhost:8080/"
        },
        "id": "29uEg1Rs63EG",
        "outputId": "ce0a5c0c-fc21-4dba-8433-b1c8d9421f0a"
      },
      "source": [
        "confusion = tf.math.confusion_matrix(labels=y_test, predictions=y_pred)\n",
        "confusion"
      ],
      "execution_count": null,
      "outputs": [
        {
          "output_type": "execute_result",
          "data": {
            "text/plain": [
              "<tf.Tensor: shape=(2, 2), dtype=int32, numpy=\n",
              "array([[5637,  587],\n",
              "       [ 723, 5553]], dtype=int32)>"
            ]
          },
          "metadata": {
            "tags": []
          },
          "execution_count": 35
        }
      ]
    },
    {
      "cell_type": "code",
      "metadata": {
        "colab": {
          "base_uri": "https://localhost:8080/"
        },
        "id": "X0PsWQw17kv6",
        "outputId": "195a69c5-3698-401c-aef7-6e2f7448171d"
      },
      "source": [
        "from sklearn.metrics import classification_report\n",
        "import time\n",
        "import numpy as np\n",
        "start_time = time.time()\n",
        "test_predictions = (model.predict(X_test) > 0.5).astype(\"int32\")\n",
        "# Comparing the predictions to actual forest cover types for the test rows\n",
        "# test is the data right after splitting into train, test and val (shuffle was false in dataset so the order will match)\n",
        "print(classification_report(y_test,test_predictions))\n",
        "print(\"Time taken to predict the model \" + str(time.time() - start_time))"
      ],
      "execution_count": null,
      "outputs": [
        {
          "output_type": "stream",
          "text": [
            "              precision    recall  f1-score   support\n",
            "\n",
            "           0       0.89      0.91      0.90      6224\n",
            "           1       0.90      0.88      0.89      6276\n",
            "\n",
            "    accuracy                           0.90     12500\n",
            "   macro avg       0.90      0.90      0.90     12500\n",
            "weighted avg       0.90      0.90      0.90     12500\n",
            "\n",
            "Time taken to predict the model 1.2555584907531738\n"
          ],
          "name": "stdout"
        }
      ]
    },
    {
      "cell_type": "code",
      "metadata": {
        "id": "TNgH_GStDHjz"
      },
      "source": [
        "# Compute most errorenous predictions"
      ],
      "execution_count": null,
      "outputs": []
    },
    {
      "cell_type": "code",
      "metadata": {
        "id": "Mncg_mC-Hs5S"
      },
      "source": [
        "res = []\n",
        "for i,j,k  in zip(X_test, y_test, y_pred_prob):\n",
        "    res.append([i, j-k])\n",
        "    "
      ],
      "execution_count": null,
      "outputs": []
    },
    {
      "cell_type": "code",
      "metadata": {
        "id": "gXFkZGaKIL7h"
      },
      "source": [
        "def takeSecond(elem):\n",
        "    return elem[1]\n",
        "res.sort(key=takeSecond)"
      ],
      "execution_count": null,
      "outputs": []
    },
    {
      "cell_type": "code",
      "metadata": {
        "colab": {
          "base_uri": "https://localhost:8080/"
        },
        "id": "3O4u3zlgIQis",
        "outputId": "a18fd5db-9651-4e70-87ef-16de5164af53"
      },
      "source": [
        "# Most errorenous positive predictions\n",
        "res[:2]"
      ],
      "execution_count": null,
      "outputs": [
        {
          "output_type": "execute_result",
          "data": {
            "text/plain": [
              "[['saw bit film interested see full thing see critic give two star result agree Basically film begin Kermit Frog Steve Whitmire telling Muppet chum lost everything end sitting depressed possibly thinking suicide bench Meanwhile another world Heaven angel Daniel David Arquette already Muppets Space visit Boss Whoopi Goldberg another reason wanted see film show Kermit really need help flashback show Kermit Miss Piggy Eric Jacobson original better Frank Oz Gonzo Dave Goelz Fozzie Bear also Jacobson Pepe Prawn Bill Barretta Muppets prepared stage show many people see Christmas holiday seems going well really mean Rachel Bitterman Joan Cusack determined either shut show theatre Kermit everything possible make sure happen course Kermit fails last time Bitterman tell finished officially take theatre Daniel sent Kermit guardian angel try help Kermit mood eventually end saying wish never born Obviously recognise spoof Wonderful Life Kermit George Bailey Cusack Mr Potter end obviously Kermit realises much mean everyone go back find theatre saved historical landmark Also starring Whitmire Rizzo Rat Beaker Goelz Dr Bunsen Honeydew Waldorf Barretta Dr Teeth Rowlf Dog Swedish Chef Jacobson Animal Yoda character sound similar Oz version William H Macy Glenn Matthew Lillard Luc Fromage Carson Daly Molly Shannon Scrubs Zach Braff Sarah Chalke Neil Flynn John C McGinley Judy Reyes Mel Brooks Joe Snow Brian Henson Scooter Janice Jerry Nelson Robin Frog Statler Pops Floyd Pepper Kevin Clash Sam Eagle memorable moment stage spoof Moulin Rouge besides well known face fantastic nominated Emmy Outstanding Music Lyrics song Everyone Matters Muppets number 47 100 Greatest Pop Culture Icons Adequate',\n",
              "  array([-0.9987715], dtype=float32)],\n",
              " ['Fox Child new film French director Luc Jacquet brought u Oscar winning documentary March Penguins focus around young girl wonderfully played Bertille No l Bruneau blooming friendship fox There truly mesmerizing moment badger mucking lynx chasing fox snow littered forest one scene particular fox tormented pack wolf quite intense even frightening time However simply quite enough them Beautifully shot cinematography dazzling bubbly kind look film wonderful undeniably lush production The English version narrated Kate Winslet little dialogue already poorly dubbed score also far fluffy least liking screenplay subtle seemingly jump one scenario another ultimately leaving almost baffled While nice moral heart film rather quiet performance No l Bruneau quite lovely real star fox captivating moment focusing solely around furry little friend tremendous However simply nearly enough them keep date latest film including review news discussion sure visit www mybluray com au',\n",
              "  array([-0.9982535], dtype=float32)]]"
            ]
          },
          "metadata": {
            "tags": []
          },
          "execution_count": 40
        }
      ]
    },
    {
      "cell_type": "code",
      "metadata": {
        "colab": {
          "base_uri": "https://localhost:8080/"
        },
        "id": "SAyv_uJ8JsUe",
        "outputId": "9f72e0f4-b38b-4fd6-8d91-f26b345a2864"
      },
      "source": [
        "# Most errorenous negative predictions\n",
        "res[-2:]"
      ],
      "execution_count": null,
      "outputs": [
        {
          "output_type": "execute_result",
          "data": {
            "text/plain": [
              "[['hilariously horrible 70 made for TV horror clinker deadly demonically possessed dessert cake Still exceptionally awful yet undeniably amusing thus enjoyable cathode ray refuse reach breathtaking apex absolute unremitting silliness atrociousness quite tasty so execrable it s downright awesome sort way Richard Crenna looking haggard possibly inebriated Yvette Mimieux act never got brutal rape endured Jackson County Jail sluggishly portray disgustingly nice respectable suburbanite couple whose quaint dull sleepy small town existence get ripped asunder cute German Shepard take family pet turn ancient lethal evil spirit Pretty soon Mimieux two repellently cutesy kid Kim Richards Ike Eisenmann psychic alien moppet Disney Witch Mountain picture worshiping crude crayon drawing nasty ugly canine entity den Boy sound really scary disturbing Well scary disturbing laughably ludicrous claptrap sure sure funny thanks Curtis Night Tide Harrington hopelessly weak direction cartoonish special effect almost painfully risible n ridiculous plot game cast struggle valiantly absurd story besides lead Martine Beswicke R G Armstrong briefly pop member Satanic cult Victor Jory nice cameo helpful Native American shaman Favorite scene malicious Mephestophelion mutt put whammy Crenna practically forcing stick hand wildly spinning lawnmower blade stuck up snobby fright film fan may hold nose perfectly putrid stench admittedly smelly schlock devout TV trash lover deem endearingly abominable offal boob tube equivalent Alpo',\n",
              "  array([0.9994989], dtype=float32)],\n",
              " ['low budget erotic thriller good point lot bad one plot revolves around female lawyer trying clear lover accused murdering wife soft core film entail going undercover strip club sex possible suspect plot go type genre bad script okay story make enough sense someone 2 watching notice many plot hole everything else film seems cheap lead actor bad pretty much supporting one unbelievably bad one girl seems like drunk and or high cinematography badly lit everything looking grainy ugly sound terrible barely hear people saying worst thing movie reason watching it the sex reason people watch thing hot sex scene featuring really hot girl Red Shoe Diary situation sex scene hot sleazy shot porno style everything master shot two people going it woman also look like refuge porn shoot trying rude mean breast implant burned out weathered look Even title Deviant Obsession sound like Hardcore flick anything porn fact love it want soft core hard core separate ever happened actress like Shannon Tweed Jacqueline Lovell Shannon Whirry Kim Dawson Women could act would totally arouse happened B erotic thriller like Body Chemistry Nighteyes even Stripped Kill Sure none masterpiece least felt like movie Plus pushing envelope going beyond Hollywood relatively prude stance sex sexual obsession perversion make hard core film without hard core sex',\n",
              "  array([0.999715], dtype=float32)]]"
            ]
          },
          "metadata": {
            "tags": []
          },
          "execution_count": 41
        }
      ]
    },
    {
      "cell_type": "code",
      "metadata": {
        "id": "NBwK6yJFJvcc"
      },
      "source": [
        ""
      ],
      "execution_count": null,
      "outputs": []
    },
    {
      "cell_type": "markdown",
      "metadata": {
        "id": "NrTndLGtMHSr"
      },
      "source": [
        "## Modified Model 1"
      ]
    },
    {
      "cell_type": "code",
      "metadata": {
        "colab": {
          "base_uri": "https://localhost:8080/"
        },
        "id": "rX1B0J8RJ74y",
        "outputId": "1a7dc06c-ac13-43bb-ee0f-323b65fc55d6"
      },
      "source": [
        "import gc\n",
        "tf.keras.backend.clear_session()\n",
        "gc.collect()"
      ],
      "execution_count": null,
      "outputs": [
        {
          "output_type": "execute_result",
          "data": {
            "text/plain": [
              "7398"
            ]
          },
          "metadata": {
            "tags": []
          },
          "execution_count": 42
        }
      ]
    },
    {
      "cell_type": "code",
      "metadata": {
        "colab": {
          "base_uri": "https://localhost:8080/"
        },
        "id": "k4JfsuesMI08",
        "outputId": "ef2a4db9-01e0-4be3-c10d-022951f8363e"
      },
      "source": [
        "# Dropout: Change the position and value of dropout layer\n",
        "\n",
        "model1 = tf.keras.Sequential()\n",
        "model1.add(tf.keras.layers.Input(shape=(), name=\"Input\", dtype=tf.string))\n",
        "model1.add(hub_layer)\n",
        "model1.add(tf.keras.layers.Dropout(0.50))\n",
        "model1.add(tf.keras.layers.Dense(32, activation='relu', kernel_regularizer=tf.keras.regularizers.l2(l=0.1)))\n",
        "model1.add(tf.keras.layers.Dropout(0.50))\n",
        "model1.add(tf.keras.layers.Dense(16, activation='relu', kernel_regularizer=tf.keras.regularizers.l2(l=0.1)))\n",
        "model1.add(tf.keras.layers.Dropout(0.20))\n",
        "model1.add(tf.keras.layers.Dense(1, activation='sigmoid'))\n",
        "\n",
        "# model.add(hub_layer)\n",
        "# model.add(tf.keras.layers.Dense(16, activation='relu'))\n",
        "# model.add(tf.keras.layers.Dense(1))\n",
        "\n",
        "model1.summary()"
      ],
      "execution_count": null,
      "outputs": [
        {
          "output_type": "stream",
          "text": [
            "Model: \"sequential\"\n",
            "_________________________________________________________________\n",
            "Layer (type)                 Output Shape              Param #   \n",
            "=================================================================\n",
            "keras_layer (KerasLayer)     (None, 50)                48190600  \n",
            "_________________________________________________________________\n",
            "dropout (Dropout)            (None, 50)                0         \n",
            "_________________________________________________________________\n",
            "dense (Dense)                (None, 32)                1632      \n",
            "_________________________________________________________________\n",
            "dropout_1 (Dropout)          (None, 32)                0         \n",
            "_________________________________________________________________\n",
            "dense_1 (Dense)              (None, 16)                528       \n",
            "_________________________________________________________________\n",
            "dropout_2 (Dropout)          (None, 16)                0         \n",
            "_________________________________________________________________\n",
            "dense_2 (Dense)              (None, 1)                 17        \n",
            "=================================================================\n",
            "Total params: 48,192,777\n",
            "Trainable params: 48,192,777\n",
            "Non-trainable params: 0\n",
            "_________________________________________________________________\n"
          ],
          "name": "stdout"
        }
      ]
    },
    {
      "cell_type": "code",
      "metadata": {
        "id": "nA3qmcKlMWgu"
      },
      "source": [
        "model1.compile(optimizer='adam',\n",
        "              loss=tf.losses.BinaryCrossentropy(from_logits=True),\n",
        "              metrics=['accuracy'])  \n",
        "              # metrics=[tf.metrics.BinaryAccuracy(threshold=0.0, name='accuracy')])  "
      ],
      "execution_count": null,
      "outputs": []
    },
    {
      "cell_type": "code",
      "metadata": {
        "colab": {
          "base_uri": "https://localhost:8080/"
        },
        "id": "7EZ-trkEMbEW",
        "outputId": "c2268a6f-2616-4d70-be93-d7c467483fb8"
      },
      "source": [
        "history = model1.fit(X_train_,\n",
        "                    y_train_,\n",
        "                    epochs=25,\n",
        "                    batch_size=256,\n",
        "                    validation_data=(X_validation_, y_validation_),\n",
        "                    verbose=1)"
      ],
      "execution_count": null,
      "outputs": [
        {
          "output_type": "stream",
          "text": [
            "Epoch 1/25\n",
            "127/127 [==============================] - 8s 59ms/step - loss: 5.2612 - accuracy: 0.6348 - val_loss: 2.0119 - val_accuracy: 0.8970\n",
            "Epoch 2/25\n",
            "127/127 [==============================] - 7s 56ms/step - loss: 1.5215 - accuracy: 0.9547 - val_loss: 0.7483 - val_accuracy: 0.8980\n",
            "Epoch 3/25\n",
            "127/127 [==============================] - 7s 56ms/step - loss: 0.5497 - accuracy: 0.9744 - val_loss: 0.4553 - val_accuracy: 0.8984\n",
            "Epoch 4/25\n",
            "127/127 [==============================] - 7s 56ms/step - loss: 0.3099 - accuracy: 0.9816 - val_loss: 0.3881 - val_accuracy: 0.8988\n",
            "Epoch 5/25\n",
            "127/127 [==============================] - 7s 56ms/step - loss: 0.2463 - accuracy: 0.9823 - val_loss: 0.3687 - val_accuracy: 0.8998\n",
            "Epoch 6/25\n",
            "127/127 [==============================] - 7s 57ms/step - loss: 0.2192 - accuracy: 0.9827 - val_loss: 0.3604 - val_accuracy: 0.8984\n",
            "Epoch 7/25\n",
            "127/127 [==============================] - 7s 56ms/step - loss: 0.2018 - accuracy: 0.9844 - val_loss: 0.3560 - val_accuracy: 0.8988\n",
            "Epoch 8/25\n",
            "127/127 [==============================] - 7s 56ms/step - loss: 0.1895 - accuracy: 0.9850 - val_loss: 0.3548 - val_accuracy: 0.8980\n",
            "Epoch 9/25\n",
            "127/127 [==============================] - 7s 56ms/step - loss: 0.1817 - accuracy: 0.9849 - val_loss: 0.3483 - val_accuracy: 0.8984\n",
            "Epoch 10/25\n",
            "127/127 [==============================] - 7s 56ms/step - loss: 0.1703 - accuracy: 0.9875 - val_loss: 0.3502 - val_accuracy: 0.8978\n",
            "Epoch 11/25\n",
            "127/127 [==============================] - 7s 56ms/step - loss: 0.1622 - accuracy: 0.9878 - val_loss: 0.3531 - val_accuracy: 0.8974\n",
            "Epoch 12/25\n",
            "127/127 [==============================] - 7s 56ms/step - loss: 0.1565 - accuracy: 0.9881 - val_loss: 0.3482 - val_accuracy: 0.8970\n",
            "Epoch 13/25\n",
            "127/127 [==============================] - 7s 56ms/step - loss: 0.1514 - accuracy: 0.9882 - val_loss: 0.3499 - val_accuracy: 0.8982\n",
            "Epoch 14/25\n",
            "127/127 [==============================] - 7s 56ms/step - loss: 0.1439 - accuracy: 0.9894 - val_loss: 0.3499 - val_accuracy: 0.8962\n",
            "Epoch 15/25\n",
            "127/127 [==============================] - 7s 56ms/step - loss: 0.1382 - accuracy: 0.9907 - val_loss: 0.3506 - val_accuracy: 0.8966\n",
            "Epoch 16/25\n",
            "127/127 [==============================] - 7s 55ms/step - loss: 0.1368 - accuracy: 0.9896 - val_loss: 0.3480 - val_accuracy: 0.8972\n",
            "Epoch 17/25\n",
            "127/127 [==============================] - 7s 57ms/step - loss: 0.1314 - accuracy: 0.9911 - val_loss: 0.3463 - val_accuracy: 0.8952\n",
            "Epoch 18/25\n",
            "127/127 [==============================] - 7s 56ms/step - loss: 0.1257 - accuracy: 0.9919 - val_loss: 0.3486 - val_accuracy: 0.8964\n",
            "Epoch 19/25\n",
            "127/127 [==============================] - 7s 56ms/step - loss: 0.1250 - accuracy: 0.9925 - val_loss: 0.3553 - val_accuracy: 0.8962\n",
            "Epoch 20/25\n",
            "127/127 [==============================] - 7s 56ms/step - loss: 0.1178 - accuracy: 0.9937 - val_loss: 0.3504 - val_accuracy: 0.8962\n",
            "Epoch 21/25\n",
            "127/127 [==============================] - 7s 57ms/step - loss: 0.1146 - accuracy: 0.9930 - val_loss: 0.3560 - val_accuracy: 0.8948\n",
            "Epoch 22/25\n",
            "127/127 [==============================] - 7s 56ms/step - loss: 0.1130 - accuracy: 0.9934 - val_loss: 0.3532 - val_accuracy: 0.8944\n",
            "Epoch 23/25\n",
            "127/127 [==============================] - 7s 57ms/step - loss: 0.1082 - accuracy: 0.9937 - val_loss: 0.3495 - val_accuracy: 0.8948\n",
            "Epoch 24/25\n",
            "127/127 [==============================] - 7s 56ms/step - loss: 0.1050 - accuracy: 0.9943 - val_loss: 0.3562 - val_accuracy: 0.8948\n",
            "Epoch 25/25\n",
            "127/127 [==============================] - 7s 57ms/step - loss: 0.1030 - accuracy: 0.9937 - val_loss: 0.3568 - val_accuracy: 0.8936\n"
          ],
          "name": "stdout"
        }
      ]
    },
    {
      "cell_type": "code",
      "metadata": {
        "colab": {
          "base_uri": "https://localhost:8080/"
        },
        "id": "U0fYibxYMgOS",
        "outputId": "2a8e4b3b-845d-46ad-c28f-e9f5cb84094d"
      },
      "source": [
        "results = model.evaluate(X_test, y_test)\n",
        "\n",
        "print(results)"
      ],
      "execution_count": null,
      "outputs": [
        {
          "output_type": "stream",
          "text": [
            "391/391 [==============================] - 2s 5ms/step - loss: 0.4013 - accuracy: 0.8958\n",
            "[0.40125319361686707, 0.8958399891853333]\n"
          ],
          "name": "stdout"
        }
      ]
    },
    {
      "cell_type": "code",
      "metadata": {
        "id": "a0kuIIvKMppL"
      },
      "source": [
        ""
      ],
      "execution_count": null,
      "outputs": []
    },
    {
      "cell_type": "code",
      "metadata": {
        "id": "kVVEblW0MqPg"
      },
      "source": [
        ""
      ],
      "execution_count": null,
      "outputs": []
    },
    {
      "cell_type": "markdown",
      "metadata": {
        "id": "mjfFPcCeMtYg"
      },
      "source": [
        "## Modified Model 2"
      ]
    },
    {
      "cell_type": "code",
      "metadata": {
        "colab": {
          "base_uri": "https://localhost:8080/"
        },
        "id": "ssuA0PDdMuD5",
        "outputId": "02bb55b4-e201-4d4e-fc23-becd96d7b787"
      },
      "source": [
        "tf.keras.backend.clear_session()\n",
        "gc.collect()"
      ],
      "execution_count": null,
      "outputs": [
        {
          "output_type": "execute_result",
          "data": {
            "text/plain": [
              "2472"
            ]
          },
          "metadata": {
            "tags": []
          },
          "execution_count": 47
        }
      ]
    },
    {
      "cell_type": "code",
      "metadata": {
        "colab": {
          "base_uri": "https://localhost:8080/"
        },
        "id": "DTDLSaknMqaM",
        "outputId": "99611877-de35-4934-bad2-365119b611dd"
      },
      "source": [
        "# Dropout: Change the Batch Size\n",
        "\n",
        "model = tf.keras.Sequential()\n",
        "model.add(tf.keras.layers.Input(shape=(), name=\"Input\", dtype=tf.string))\n",
        "model.add(hub_layer)\n",
        "model.add(tf.keras.layers.Dense(32, activation='relu', kernel_regularizer=tf.keras.regularizers.l2(l=0.1)))\n",
        "model.add(tf.keras.layers.Dropout(0.5))\n",
        "model.add(tf.keras.layers.Dense(16, activation='relu', kernel_regularizer=tf.keras.regularizers.l2(l=0.1)))\n",
        "model.add(tf.keras.layers.Dense(1, activation='sigmoid'))\n",
        "\n",
        "# model.add(hub_layer)\n",
        "# model.add(tf.keras.layers.Dense(16, activation='relu'))\n",
        "# model.add(tf.keras.layers.Dense(1))\n",
        "\n",
        "model.summary()"
      ],
      "execution_count": null,
      "outputs": [
        {
          "output_type": "stream",
          "text": [
            "Model: \"sequential\"\n",
            "_________________________________________________________________\n",
            "Layer (type)                 Output Shape              Param #   \n",
            "=================================================================\n",
            "keras_layer (KerasLayer)     (None, 50)                48190600  \n",
            "_________________________________________________________________\n",
            "dense (Dense)                (None, 32)                1632      \n",
            "_________________________________________________________________\n",
            "dropout (Dropout)            (None, 32)                0         \n",
            "_________________________________________________________________\n",
            "dense_1 (Dense)              (None, 16)                528       \n",
            "_________________________________________________________________\n",
            "dense_2 (Dense)              (None, 1)                 17        \n",
            "=================================================================\n",
            "Total params: 48,192,777\n",
            "Trainable params: 48,192,777\n",
            "Non-trainable params: 0\n",
            "_________________________________________________________________\n"
          ],
          "name": "stdout"
        }
      ]
    },
    {
      "cell_type": "code",
      "metadata": {
        "id": "xYEc_K9pM032"
      },
      "source": [
        "model.compile(optimizer='adam',\n",
        "              loss=tf.losses.BinaryCrossentropy(from_logits=True),\n",
        "              metrics=['accuracy'])  \n",
        "              # metrics=[tf.metrics.BinaryAccuracy(threshold=0.0, name='accuracy')])  "
      ],
      "execution_count": null,
      "outputs": []
    },
    {
      "cell_type": "code",
      "metadata": {
        "colab": {
          "base_uri": "https://localhost:8080/"
        },
        "id": "UY538FnjNrHL",
        "outputId": "0795b704-26bb-42d6-9592-e34a4bb798ab"
      },
      "source": [
        "history = model.fit(X_train_,\n",
        "                    y_train_,\n",
        "                    epochs=25,\n",
        "                    batch_size=512,\n",
        "                    validation_data=(X_validation_, y_validation_),\n",
        "                    verbose=1)"
      ],
      "execution_count": null,
      "outputs": [
        {
          "output_type": "stream",
          "text": [
            "Epoch 1/25\n",
            "64/64 [==============================] - 5s 68ms/step - loss: 5.7799 - accuracy: 0.8173 - val_loss: 3.5591 - val_accuracy: 0.8966\n",
            "Epoch 2/25\n",
            "64/64 [==============================] - 4s 63ms/step - loss: 2.9904 - accuracy: 0.9828 - val_loss: 1.9379 - val_accuracy: 0.8964\n",
            "Epoch 3/25\n",
            "64/64 [==============================] - 4s 63ms/step - loss: 1.5791 - accuracy: 0.9877 - val_loss: 1.1158 - val_accuracy: 0.8956\n",
            "Epoch 4/25\n",
            "64/64 [==============================] - 4s 63ms/step - loss: 0.8579 - accuracy: 0.9918 - val_loss: 0.7073 - val_accuracy: 0.8966\n",
            "Epoch 5/25\n",
            "64/64 [==============================] - 4s 64ms/step - loss: 0.4946 - accuracy: 0.9938 - val_loss: 0.5114 - val_accuracy: 0.8960\n",
            "Epoch 6/25\n",
            "64/64 [==============================] - 4s 64ms/step - loss: 0.3174 - accuracy: 0.9943 - val_loss: 0.4214 - val_accuracy: 0.8974\n",
            "Epoch 7/25\n",
            "64/64 [==============================] - 4s 64ms/step - loss: 0.2324 - accuracy: 0.9943 - val_loss: 0.3817 - val_accuracy: 0.8966\n",
            "Epoch 8/25\n",
            "64/64 [==============================] - 4s 62ms/step - loss: 0.1929 - accuracy: 0.9933 - val_loss: 0.3613 - val_accuracy: 0.8974\n",
            "Epoch 9/25\n",
            "64/64 [==============================] - 4s 61ms/step - loss: 0.1680 - accuracy: 0.9959 - val_loss: 0.3538 - val_accuracy: 0.8968\n",
            "Epoch 10/25\n",
            "64/64 [==============================] - 4s 62ms/step - loss: 0.1557 - accuracy: 0.9954 - val_loss: 0.3506 - val_accuracy: 0.8958\n",
            "Epoch 11/25\n",
            "64/64 [==============================] - 4s 62ms/step - loss: 0.1475 - accuracy: 0.9957 - val_loss: 0.3480 - val_accuracy: 0.8968\n",
            "Epoch 12/25\n",
            "64/64 [==============================] - 4s 62ms/step - loss: 0.1414 - accuracy: 0.9954 - val_loss: 0.3459 - val_accuracy: 0.8966\n",
            "Epoch 13/25\n",
            "64/64 [==============================] - 4s 63ms/step - loss: 0.1374 - accuracy: 0.9948 - val_loss: 0.3468 - val_accuracy: 0.8964\n",
            "Epoch 14/25\n",
            "64/64 [==============================] - 4s 62ms/step - loss: 0.1341 - accuracy: 0.9949 - val_loss: 0.3484 - val_accuracy: 0.8950\n",
            "Epoch 15/25\n",
            "64/64 [==============================] - 4s 62ms/step - loss: 0.1277 - accuracy: 0.9953 - val_loss: 0.3454 - val_accuracy: 0.8960\n",
            "Epoch 16/25\n",
            "64/64 [==============================] - 4s 62ms/step - loss: 0.1240 - accuracy: 0.9958 - val_loss: 0.3452 - val_accuracy: 0.8956\n",
            "Epoch 17/25\n",
            "64/64 [==============================] - 4s 62ms/step - loss: 0.1205 - accuracy: 0.9961 - val_loss: 0.3456 - val_accuracy: 0.8966\n",
            "Epoch 18/25\n",
            "64/64 [==============================] - 4s 62ms/step - loss: 0.1199 - accuracy: 0.9952 - val_loss: 0.3450 - val_accuracy: 0.8962\n",
            "Epoch 19/25\n",
            "64/64 [==============================] - 4s 62ms/step - loss: 0.1163 - accuracy: 0.9957 - val_loss: 0.3474 - val_accuracy: 0.8964\n",
            "Epoch 20/25\n",
            "64/64 [==============================] - 4s 62ms/step - loss: 0.1125 - accuracy: 0.9963 - val_loss: 0.3457 - val_accuracy: 0.8958\n",
            "Epoch 21/25\n",
            "64/64 [==============================] - 4s 63ms/step - loss: 0.1091 - accuracy: 0.9968 - val_loss: 0.3456 - val_accuracy: 0.8950\n",
            "Epoch 22/25\n",
            "64/64 [==============================] - 4s 62ms/step - loss: 0.1084 - accuracy: 0.9958 - val_loss: 0.3465 - val_accuracy: 0.8958\n",
            "Epoch 23/25\n",
            "64/64 [==============================] - 4s 62ms/step - loss: 0.1064 - accuracy: 0.9961 - val_loss: 0.3496 - val_accuracy: 0.8960\n",
            "Epoch 24/25\n",
            "64/64 [==============================] - 4s 63ms/step - loss: 0.1023 - accuracy: 0.9969 - val_loss: 0.3497 - val_accuracy: 0.8958\n",
            "Epoch 25/25\n",
            "64/64 [==============================] - 4s 63ms/step - loss: 0.1014 - accuracy: 0.9966 - val_loss: 0.3526 - val_accuracy: 0.8954\n"
          ],
          "name": "stdout"
        }
      ]
    },
    {
      "cell_type": "code",
      "metadata": {
        "colab": {
          "base_uri": "https://localhost:8080/"
        },
        "id": "f786c7N3NwOz",
        "outputId": "a235626a-ef52-4412-f697-3b1d161cc3b4"
      },
      "source": [
        "results = model.evaluate(X_test, y_test)\n",
        "\n",
        "print(results)"
      ],
      "execution_count": null,
      "outputs": [
        {
          "output_type": "stream",
          "text": [
            "391/391 [==============================] - 2s 5ms/step - loss: 0.3503 - accuracy: 0.8959\n",
            "[0.35034340620040894, 0.8959199786186218]\n"
          ],
          "name": "stdout"
        }
      ]
    },
    {
      "cell_type": "code",
      "metadata": {
        "id": "mJPpZcPuNzl0"
      },
      "source": [
        ""
      ],
      "execution_count": null,
      "outputs": []
    },
    {
      "cell_type": "markdown",
      "metadata": {
        "id": "SGkOXTD5PE5Y"
      },
      "source": [
        "Comparision of 3 models\n",
        "\n",
        "1. Base Model: \n",
        "\n",
        "  --->Training set : loss: 0.1088 - accuracy: 0.9960 <br>\n",
        "  --->Test Set: loss: 0.3467 - accuracy: 0.8952\n",
        "\n",
        "<br><br>\n",
        "2. Model 1: loss:\n",
        "\n",
        "  --->Training set : loss: 0.1030 - accuracy: 0.9937 <br>(loss is less and accuracy is less on training and more on test data. (so less overfitted model) <br>\n",
        "  --->Test Set: loss: 0.4013 - accuracy: 0.8958\n",
        "\n",
        "<br><br>\n",
        "3. Model 2:\n",
        "\n",
        "  --->Training set : loss: 0.1014 - accuracy: 0.9966 <br>(loss is less and accuracy is more on training and more on test data. (so better model) <br>\n",
        "  --->Test Set: loss: 0.3503 - accuracy: 0.8959"
      ]
    },
    {
      "cell_type": "code",
      "metadata": {
        "id": "IlusaW5YPdGt"
      },
      "source": [
        ""
      ],
      "execution_count": null,
      "outputs": []
    }
  ]
}